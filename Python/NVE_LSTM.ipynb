{
 "cells": [
  {
   "cell_type": "markdown",
   "metadata": {},
   "source": [
    "# Long Short-Term Memory (LSTM) for rainfall-runoff modelling\n",
    "\n",
    "Recently, Kratzert et al. (2018a, 2018b) have shown the potential of LSTMs for rainfall-runoff modelling. Here, I'll show some example for setting up and training such a model. For single catchment calibration (as done in this notebook) no GPU is required, and everything should run fine on a standard CPU (also rather slow, compared to a GPU).\n",
    "\n",
    "In this example, we use the NVE data set (provided by Elhadi Mohsen Hassan Abdalla) that provides us with approx. 15 years of daily meteorological forcings and discharge observations from 100 catchments across Norway. As input to our model we use daily precipitation and temperature. \n",
    "\n",
    "- Kratzert, F., Klotz, D., Brenner, C., Schulz, K., and Herrnegger, M.: Rainfall–runoff modelling using Long Short-Term Memory (LSTM) networks, Hydrol. Earth Syst. Sci., 22, 6005-6022, https://doi.org/10.5194/hess-22-6005-2018, 2018a. \n",
    "\n",
    "- Kratzert F., Klotz D., Herrnegger M., Hochreiter S.: A glimpse into the Unobserved: Runoff simulation for ungauged catchments with LSTMs, Workshop on Modeling and Decision-Making in the Spatiotemporal Domain, 32nd Conference on Neural Information Processing Systems (NeuRIPS 2018), Montréal, Canada. [https://openreview.net/forum?id=Bylhm72oKX](https://openreview.net/forum?id=Bylhm72oKX), 2018b.\n",
    "\n",
    "- A. Newman; K. Sampson; M. P. Clark; A. Bock; R. J. Viger; D. Blodgett, 2014. A large-sample watershed-scale hydrometeorological dataset for the contiguous USA. Boulder, CO: UCAR/NCAR. https://dx.doi.org/10.5065/D6MW2F4D\n",
    "\n",
    "This is notebook is based on: https://github.com/kratzert/pangeo_lstm_example.\n",
    "\n",
    "Date: 25.03.2020<br/>"
   ]
  },
  {
   "cell_type": "code",
   "execution_count": 106,
   "metadata": {},
   "outputs": [],
   "source": [
    "# Imports\n",
    "from pathlib import Path\n",
    "from typing import Tuple, List\n",
    "\n",
    "import gcsfs\n",
    "import matplotlib.pyplot as plt\n",
    "from numba import njit\n",
    "import numpy as np\n",
    "import pandas as pd\n",
    "import torch\n",
    "import torch.nn as nn\n",
    "import torch.nn.functional as F\n",
    "from torch.utils.data import DataLoader, Dataset\n",
    "import tqdm\n",
    "import glob\n",
    "\n",
    "# Globals\n",
    "DEVICE = torch.device(\"cuda:0\" if torch.cuda.is_available() else \"cpu\") # This line checks if GPU is available\n",
    "\n",
    "file_nr = 44# 65 66 88 92 94 97 99 "
   ]
  },
  {
   "cell_type": "markdown",
   "metadata": {},
   "source": [
    "## Data loading\n",
    "### NVE specific data loader functions\n",
    "\n",
    "Next define a function to load the meteorological forcings and the discharge for any specific catchment from the NVE data set."
   ]
  },
  {
   "cell_type": "code",
   "execution_count": 107,
   "metadata": {},
   "outputs": [],
   "source": [
    "def load_forcing_and_discharge(catchment: int) -> Tuple[pd.DataFrame, int]:\n",
    "    \"\"\"Load the meteorological forcing data of a specific catchment.\n",
    "\n",
    "    :param catchment: number (id)\n",
    "    \n",
    "    :return: pd.DataFrame containing the meteorological forcing data.\n",
    "    \"\"\"\n",
    "    path = '../Input files (.txt)'\n",
    "    all_files = glob.glob(path + \"/*.txt\")\n",
    "\n",
    "    file_exist = False\n",
    "    \n",
    "    # Loop through files and find correct catchment\n",
    "    for file_path in all_files:\n",
    "        # Name is formatted `./Input files (.txt)/nve_inp_XX.txt`\n",
    "        number = int(file_path.split('_')[-1].split('.')[0])\n",
    "        \n",
    "        if number == catchment:\n",
    "            file_exist = True\n",
    "            df = pd.read_csv(file_path, encoding='cp1252', skiprows=[0], delimiter=r\"\\s+\", parse_dates=[['dd.mm.yyyy',  'hh:mm:ss']])\n",
    "            df = df.rename(columns={\"dd.mm.yyyy_hh:mm:ss\": \"timestamp\"})\n",
    "    \n",
    "    # Return None if catchment does not exist\n",
    "    if file_exist == False:\n",
    "        print(\"Catchment does not exist\")\n",
    "        return None\n",
    "    else:\n",
    "        return df"
   ]
  },
  {
   "cell_type": "code",
   "execution_count": 108,
   "metadata": {},
   "outputs": [
    {
     "data": {
      "text/html": [
       "<div>\n",
       "<style scoped>\n",
       "    .dataframe tbody tr th:only-of-type {\n",
       "        vertical-align: middle;\n",
       "    }\n",
       "\n",
       "    .dataframe tbody tr th {\n",
       "        vertical-align: top;\n",
       "    }\n",
       "\n",
       "    .dataframe thead th {\n",
       "        text-align: right;\n",
       "    }\n",
       "</style>\n",
       "<table border=\"1\" class=\"dataframe\">\n",
       "  <thead>\n",
       "    <tr style=\"text-align: right;\">\n",
       "      <th></th>\n",
       "      <th>timestamp</th>\n",
       "      <th>mm</th>\n",
       "      <th>grC</th>\n",
       "      <th>grC.1</th>\n",
       "      <th>m3/s</th>\n",
       "    </tr>\n",
       "  </thead>\n",
       "  <tbody>\n",
       "    <tr>\n",
       "      <th>0</th>\n",
       "      <td>2000-01-01</td>\n",
       "      <td>0.00</td>\n",
       "      <td>-2.09</td>\n",
       "      <td>-2.09</td>\n",
       "      <td>0.16</td>\n",
       "    </tr>\n",
       "    <tr>\n",
       "      <th>1</th>\n",
       "      <td>2000-02-01</td>\n",
       "      <td>0.13</td>\n",
       "      <td>0.08</td>\n",
       "      <td>0.08</td>\n",
       "      <td>0.16</td>\n",
       "    </tr>\n",
       "    <tr>\n",
       "      <th>2</th>\n",
       "      <td>2000-03-01</td>\n",
       "      <td>7.29</td>\n",
       "      <td>1.28</td>\n",
       "      <td>1.28</td>\n",
       "      <td>0.17</td>\n",
       "    </tr>\n",
       "    <tr>\n",
       "      <th>3</th>\n",
       "      <td>2000-04-01</td>\n",
       "      <td>0.16</td>\n",
       "      <td>0.90</td>\n",
       "      <td>0.90</td>\n",
       "      <td>0.18</td>\n",
       "    </tr>\n",
       "    <tr>\n",
       "      <th>4</th>\n",
       "      <td>2000-05-01</td>\n",
       "      <td>7.95</td>\n",
       "      <td>-0.94</td>\n",
       "      <td>-0.94</td>\n",
       "      <td>0.18</td>\n",
       "    </tr>\n",
       "    <tr>\n",
       "      <th>...</th>\n",
       "      <td>...</td>\n",
       "      <td>...</td>\n",
       "      <td>...</td>\n",
       "      <td>...</td>\n",
       "      <td>...</td>\n",
       "    </tr>\n",
       "    <tr>\n",
       "      <th>5839</th>\n",
       "      <td>2015-12-27</td>\n",
       "      <td>10.42</td>\n",
       "      <td>-6.23</td>\n",
       "      <td>-6.23</td>\n",
       "      <td>2.54</td>\n",
       "    </tr>\n",
       "    <tr>\n",
       "      <th>5840</th>\n",
       "      <td>2015-12-28</td>\n",
       "      <td>1.72</td>\n",
       "      <td>-3.74</td>\n",
       "      <td>-3.74</td>\n",
       "      <td>1.51</td>\n",
       "    </tr>\n",
       "    <tr>\n",
       "      <th>5841</th>\n",
       "      <td>2015-12-29</td>\n",
       "      <td>0.00</td>\n",
       "      <td>-1.74</td>\n",
       "      <td>-1.74</td>\n",
       "      <td>1.09</td>\n",
       "    </tr>\n",
       "    <tr>\n",
       "      <th>5842</th>\n",
       "      <td>2015-12-30</td>\n",
       "      <td>0.00</td>\n",
       "      <td>1.17</td>\n",
       "      <td>1.17</td>\n",
       "      <td>0.88</td>\n",
       "    </tr>\n",
       "    <tr>\n",
       "      <th>5843</th>\n",
       "      <td>2015-12-31</td>\n",
       "      <td>0.00</td>\n",
       "      <td>2.78</td>\n",
       "      <td>2.78</td>\n",
       "      <td>0.76</td>\n",
       "    </tr>\n",
       "  </tbody>\n",
       "</table>\n",
       "<p>5844 rows × 5 columns</p>\n",
       "</div>"
      ],
      "text/plain": [
       "      timestamp     mm   grC  grC.1  m3/s\n",
       "0    2000-01-01   0.00 -2.09  -2.09  0.16\n",
       "1    2000-02-01   0.13  0.08   0.08  0.16\n",
       "2    2000-03-01   7.29  1.28   1.28  0.17\n",
       "3    2000-04-01   0.16  0.90   0.90  0.18\n",
       "4    2000-05-01   7.95 -0.94  -0.94  0.18\n",
       "...         ...    ...   ...    ...   ...\n",
       "5839 2015-12-27  10.42 -6.23  -6.23  2.54\n",
       "5840 2015-12-28   1.72 -3.74  -3.74  1.51\n",
       "5841 2015-12-29   0.00 -1.74  -1.74  1.09\n",
       "5842 2015-12-30   0.00  1.17   1.17  0.88\n",
       "5843 2015-12-31   0.00  2.78   2.78  0.76\n",
       "\n",
       "[5844 rows x 5 columns]"
      ]
     },
     "metadata": {},
     "output_type": "display_data"
    }
   ],
   "source": [
    "# Display Data frame for one catchment\n",
    "display(load_forcing_and_discharge(file_nr))"
   ]
  },
  {
   "cell_type": "markdown",
   "metadata": {},
   "source": [
    "## Import training data"
   ]
  },
  {
   "cell_type": "code",
   "execution_count": 109,
   "metadata": {},
   "outputs": [],
   "source": [
    "def load_training_data(catchment: int) -> Tuple[pd.DataFrame, int]:\n",
    "    \"\"\"Load the meteorological forcing data and other characteristics of a specific catchment.\n",
    "\n",
    "    :param catchment: number (id)\n",
    "    \n",
    "    :return: pd.DataFrame containing the meteorological forcing and other characteristics data.\n",
    "    \"\"\"\n",
    "    path = '../Training_data'\n",
    "    all_files = glob.glob(path + \"/*.csv\")\n",
    "\n",
    "    file_exist = False\n",
    "    \n",
    "    # Loop through files and find correct catchment\n",
    "    for file_path in all_files:\n",
    "        # Name is formatted `./Input files (.txt)/nve_inp_XX.txt`\n",
    "        number = int(file_path.split('_')[-1].split('.')[0])\n",
    "        \n",
    "        if number == catchment:\n",
    "            file_exist = True\n",
    "            df = pd.read_csv(file_path)\n",
    "            df[\"timestamp\"] = pd.to_datetime(df[\"timestamp\"])\n",
    "            # Delay by one day\n",
    "            df[\"Residual_in\"] = np.roll(df[\"Residual\"], 1)\n",
    "            \n",
    "    # Return None if catchment does not exist\n",
    "    if file_exist == False:\n",
    "        print(\"Catchment does not exist\")\n",
    "        return None\n",
    "    else:\n",
    "        return df"
   ]
  },
  {
   "cell_type": "code",
   "execution_count": 110,
   "metadata": {},
   "outputs": [
    {
     "data": {
      "text/html": [
       "<div>\n",
       "<style scoped>\n",
       "    .dataframe tbody tr th:only-of-type {\n",
       "        vertical-align: middle;\n",
       "    }\n",
       "\n",
       "    .dataframe tbody tr th {\n",
       "        vertical-align: top;\n",
       "    }\n",
       "\n",
       "    .dataframe thead th {\n",
       "        text-align: right;\n",
       "    }\n",
       "</style>\n",
       "<table border=\"1\" class=\"dataframe\">\n",
       "  <thead>\n",
       "    <tr style=\"text-align: right;\">\n",
       "      <th></th>\n",
       "      <th>Unnamed: 0</th>\n",
       "      <th>timestamp</th>\n",
       "      <th>mm</th>\n",
       "      <th>grC</th>\n",
       "      <th>grC.1</th>\n",
       "      <th>m3/s</th>\n",
       "      <th>evapo_transp</th>\n",
       "      <th>grC1</th>\n",
       "      <th>grC2</th>\n",
       "      <th>grC3</th>\n",
       "      <th>...</th>\n",
       "      <th>mm6</th>\n",
       "      <th>mm7</th>\n",
       "      <th>mm8</th>\n",
       "      <th>mm9</th>\n",
       "      <th>mm10</th>\n",
       "      <th>EPOT</th>\n",
       "      <th>Q_obs</th>\n",
       "      <th>Q_sim</th>\n",
       "      <th>Residual</th>\n",
       "      <th>Residual_in</th>\n",
       "    </tr>\n",
       "  </thead>\n",
       "  <tbody>\n",
       "    <tr>\n",
       "      <th>0</th>\n",
       "      <td>0</td>\n",
       "      <td>2000-01-01</td>\n",
       "      <td>0.00</td>\n",
       "      <td>-2.09</td>\n",
       "      <td>-2.09</td>\n",
       "      <td>0.16</td>\n",
       "      <td>0.1</td>\n",
       "      <td>-3.807045</td>\n",
       "      <td>-3.662045</td>\n",
       "      <td>-3.379545</td>\n",
       "      <td>...</td>\n",
       "      <td>0.000000</td>\n",
       "      <td>0.000000</td>\n",
       "      <td>0.000000</td>\n",
       "      <td>0.000000</td>\n",
       "      <td>0.000000</td>\n",
       "      <td>0.1</td>\n",
       "      <td>0.16</td>\n",
       "      <td>0.000</td>\n",
       "      <td>-0.160</td>\n",
       "      <td>-0.043</td>\n",
       "    </tr>\n",
       "    <tr>\n",
       "      <th>1</th>\n",
       "      <td>1</td>\n",
       "      <td>2000-01-02</td>\n",
       "      <td>0.13</td>\n",
       "      <td>0.08</td>\n",
       "      <td>0.08</td>\n",
       "      <td>0.16</td>\n",
       "      <td>0.1</td>\n",
       "      <td>-1.637045</td>\n",
       "      <td>-1.492045</td>\n",
       "      <td>-1.209545</td>\n",
       "      <td>...</td>\n",
       "      <td>0.186551</td>\n",
       "      <td>0.192088</td>\n",
       "      <td>0.199859</td>\n",
       "      <td>0.209909</td>\n",
       "      <td>0.233966</td>\n",
       "      <td>0.1</td>\n",
       "      <td>0.16</td>\n",
       "      <td>0.001</td>\n",
       "      <td>-0.159</td>\n",
       "      <td>-0.160</td>\n",
       "    </tr>\n",
       "    <tr>\n",
       "      <th>2</th>\n",
       "      <td>2</td>\n",
       "      <td>2000-01-03</td>\n",
       "      <td>7.29</td>\n",
       "      <td>1.28</td>\n",
       "      <td>1.28</td>\n",
       "      <td>0.17</td>\n",
       "      <td>0.1</td>\n",
       "      <td>-0.437045</td>\n",
       "      <td>-0.292045</td>\n",
       "      <td>-0.009545</td>\n",
       "      <td>...</td>\n",
       "      <td>10.461197</td>\n",
       "      <td>10.771705</td>\n",
       "      <td>11.207460</td>\n",
       "      <td>11.771070</td>\n",
       "      <td>13.120084</td>\n",
       "      <td>0.1</td>\n",
       "      <td>0.17</td>\n",
       "      <td>0.083</td>\n",
       "      <td>-0.087</td>\n",
       "      <td>-0.159</td>\n",
       "    </tr>\n",
       "    <tr>\n",
       "      <th>3</th>\n",
       "      <td>3</td>\n",
       "      <td>2000-01-04</td>\n",
       "      <td>0.16</td>\n",
       "      <td>0.90</td>\n",
       "      <td>0.90</td>\n",
       "      <td>0.18</td>\n",
       "      <td>0.1</td>\n",
       "      <td>-0.817045</td>\n",
       "      <td>-0.672045</td>\n",
       "      <td>-0.389545</td>\n",
       "      <td>...</td>\n",
       "      <td>0.229601</td>\n",
       "      <td>0.236416</td>\n",
       "      <td>0.245980</td>\n",
       "      <td>0.258350</td>\n",
       "      <td>0.287958</td>\n",
       "      <td>0.1</td>\n",
       "      <td>0.18</td>\n",
       "      <td>0.124</td>\n",
       "      <td>-0.056</td>\n",
       "      <td>-0.087</td>\n",
       "    </tr>\n",
       "    <tr>\n",
       "      <th>4</th>\n",
       "      <td>4</td>\n",
       "      <td>2000-01-05</td>\n",
       "      <td>7.95</td>\n",
       "      <td>-0.94</td>\n",
       "      <td>-0.94</td>\n",
       "      <td>0.18</td>\n",
       "      <td>0.1</td>\n",
       "      <td>-2.657045</td>\n",
       "      <td>-2.512045</td>\n",
       "      <td>-2.229545</td>\n",
       "      <td>...</td>\n",
       "      <td>11.408301</td>\n",
       "      <td>11.746921</td>\n",
       "      <td>12.222127</td>\n",
       "      <td>12.836764</td>\n",
       "      <td>14.307910</td>\n",
       "      <td>0.1</td>\n",
       "      <td>0.18</td>\n",
       "      <td>0.145</td>\n",
       "      <td>-0.035</td>\n",
       "      <td>-0.056</td>\n",
       "    </tr>\n",
       "    <tr>\n",
       "      <th>...</th>\n",
       "      <td>...</td>\n",
       "      <td>...</td>\n",
       "      <td>...</td>\n",
       "      <td>...</td>\n",
       "      <td>...</td>\n",
       "      <td>...</td>\n",
       "      <td>...</td>\n",
       "      <td>...</td>\n",
       "      <td>...</td>\n",
       "      <td>...</td>\n",
       "      <td>...</td>\n",
       "      <td>...</td>\n",
       "      <td>...</td>\n",
       "      <td>...</td>\n",
       "      <td>...</td>\n",
       "      <td>...</td>\n",
       "      <td>...</td>\n",
       "      <td>...</td>\n",
       "      <td>...</td>\n",
       "      <td>...</td>\n",
       "      <td>...</td>\n",
       "    </tr>\n",
       "    <tr>\n",
       "      <th>5839</th>\n",
       "      <td>5839</td>\n",
       "      <td>2015-12-27</td>\n",
       "      <td>10.42</td>\n",
       "      <td>-6.23</td>\n",
       "      <td>-6.23</td>\n",
       "      <td>2.54</td>\n",
       "      <td>0.1</td>\n",
       "      <td>-7.947045</td>\n",
       "      <td>-7.802045</td>\n",
       "      <td>-7.519545</td>\n",
       "      <td>...</td>\n",
       "      <td>14.952767</td>\n",
       "      <td>15.396593</td>\n",
       "      <td>16.019442</td>\n",
       "      <td>16.825042</td>\n",
       "      <td>18.753261</td>\n",
       "      <td>0.1</td>\n",
       "      <td>2.54</td>\n",
       "      <td>1.058</td>\n",
       "      <td>-1.482</td>\n",
       "      <td>-1.059</td>\n",
       "    </tr>\n",
       "    <tr>\n",
       "      <th>5840</th>\n",
       "      <td>5840</td>\n",
       "      <td>2015-12-28</td>\n",
       "      <td>1.72</td>\n",
       "      <td>-3.74</td>\n",
       "      <td>-3.74</td>\n",
       "      <td>1.51</td>\n",
       "      <td>0.1</td>\n",
       "      <td>-5.457045</td>\n",
       "      <td>-5.312045</td>\n",
       "      <td>-5.029545</td>\n",
       "      <td>...</td>\n",
       "      <td>2.468211</td>\n",
       "      <td>2.541472</td>\n",
       "      <td>2.644284</td>\n",
       "      <td>2.777262</td>\n",
       "      <td>3.095548</td>\n",
       "      <td>0.1</td>\n",
       "      <td>1.51</td>\n",
       "      <td>0.782</td>\n",
       "      <td>-0.728</td>\n",
       "      <td>-1.482</td>\n",
       "    </tr>\n",
       "    <tr>\n",
       "      <th>5841</th>\n",
       "      <td>5841</td>\n",
       "      <td>2015-12-29</td>\n",
       "      <td>0.00</td>\n",
       "      <td>-1.74</td>\n",
       "      <td>-1.74</td>\n",
       "      <td>1.09</td>\n",
       "      <td>0.1</td>\n",
       "      <td>-3.457045</td>\n",
       "      <td>-3.312045</td>\n",
       "      <td>-3.029545</td>\n",
       "      <td>...</td>\n",
       "      <td>0.000000</td>\n",
       "      <td>0.000000</td>\n",
       "      <td>0.000000</td>\n",
       "      <td>0.000000</td>\n",
       "      <td>0.000000</td>\n",
       "      <td>0.1</td>\n",
       "      <td>1.09</td>\n",
       "      <td>0.698</td>\n",
       "      <td>-0.392</td>\n",
       "      <td>-0.728</td>\n",
       "    </tr>\n",
       "    <tr>\n",
       "      <th>5842</th>\n",
       "      <td>5842</td>\n",
       "      <td>2015-12-30</td>\n",
       "      <td>0.00</td>\n",
       "      <td>1.17</td>\n",
       "      <td>1.17</td>\n",
       "      <td>0.88</td>\n",
       "      <td>0.1</td>\n",
       "      <td>-0.547045</td>\n",
       "      <td>-0.402045</td>\n",
       "      <td>-0.119545</td>\n",
       "      <td>...</td>\n",
       "      <td>0.000000</td>\n",
       "      <td>0.000000</td>\n",
       "      <td>0.000000</td>\n",
       "      <td>0.000000</td>\n",
       "      <td>0.000000</td>\n",
       "      <td>0.1</td>\n",
       "      <td>0.88</td>\n",
       "      <td>0.664</td>\n",
       "      <td>-0.216</td>\n",
       "      <td>-0.392</td>\n",
       "    </tr>\n",
       "    <tr>\n",
       "      <th>5843</th>\n",
       "      <td>5843</td>\n",
       "      <td>2015-12-31</td>\n",
       "      <td>0.00</td>\n",
       "      <td>2.78</td>\n",
       "      <td>2.78</td>\n",
       "      <td>0.76</td>\n",
       "      <td>0.1</td>\n",
       "      <td>1.062955</td>\n",
       "      <td>1.207955</td>\n",
       "      <td>1.490455</td>\n",
       "      <td>...</td>\n",
       "      <td>0.000000</td>\n",
       "      <td>0.000000</td>\n",
       "      <td>0.000000</td>\n",
       "      <td>0.000000</td>\n",
       "      <td>0.000000</td>\n",
       "      <td>0.1</td>\n",
       "      <td>0.76</td>\n",
       "      <td>0.717</td>\n",
       "      <td>-0.043</td>\n",
       "      <td>-0.216</td>\n",
       "    </tr>\n",
       "  </tbody>\n",
       "</table>\n",
       "<p>5844 rows × 32 columns</p>\n",
       "</div>"
      ],
      "text/plain": [
       "      Unnamed: 0  timestamp     mm   grC  grC.1  m3/s  evapo_transp      grC1  \\\n",
       "0              0 2000-01-01   0.00 -2.09  -2.09  0.16           0.1 -3.807045   \n",
       "1              1 2000-01-02   0.13  0.08   0.08  0.16           0.1 -1.637045   \n",
       "2              2 2000-01-03   7.29  1.28   1.28  0.17           0.1 -0.437045   \n",
       "3              3 2000-01-04   0.16  0.90   0.90  0.18           0.1 -0.817045   \n",
       "4              4 2000-01-05   7.95 -0.94  -0.94  0.18           0.1 -2.657045   \n",
       "...          ...        ...    ...   ...    ...   ...           ...       ...   \n",
       "5839        5839 2015-12-27  10.42 -6.23  -6.23  2.54           0.1 -7.947045   \n",
       "5840        5840 2015-12-28   1.72 -3.74  -3.74  1.51           0.1 -5.457045   \n",
       "5841        5841 2015-12-29   0.00 -1.74  -1.74  1.09           0.1 -3.457045   \n",
       "5842        5842 2015-12-30   0.00  1.17   1.17  0.88           0.1 -0.547045   \n",
       "5843        5843 2015-12-31   0.00  2.78   2.78  0.76           0.1  1.062955   \n",
       "\n",
       "          grC2      grC3  ...        mm6        mm7        mm8        mm9  \\\n",
       "0    -3.662045 -3.379545  ...   0.000000   0.000000   0.000000   0.000000   \n",
       "1    -1.492045 -1.209545  ...   0.186551   0.192088   0.199859   0.209909   \n",
       "2    -0.292045 -0.009545  ...  10.461197  10.771705  11.207460  11.771070   \n",
       "3    -0.672045 -0.389545  ...   0.229601   0.236416   0.245980   0.258350   \n",
       "4    -2.512045 -2.229545  ...  11.408301  11.746921  12.222127  12.836764   \n",
       "...        ...       ...  ...        ...        ...        ...        ...   \n",
       "5839 -7.802045 -7.519545  ...  14.952767  15.396593  16.019442  16.825042   \n",
       "5840 -5.312045 -5.029545  ...   2.468211   2.541472   2.644284   2.777262   \n",
       "5841 -3.312045 -3.029545  ...   0.000000   0.000000   0.000000   0.000000   \n",
       "5842 -0.402045 -0.119545  ...   0.000000   0.000000   0.000000   0.000000   \n",
       "5843  1.207955  1.490455  ...   0.000000   0.000000   0.000000   0.000000   \n",
       "\n",
       "           mm10  EPOT  Q_obs  Q_sim  Residual  Residual_in  \n",
       "0      0.000000   0.1   0.16  0.000    -0.160       -0.043  \n",
       "1      0.233966   0.1   0.16  0.001    -0.159       -0.160  \n",
       "2     13.120084   0.1   0.17  0.083    -0.087       -0.159  \n",
       "3      0.287958   0.1   0.18  0.124    -0.056       -0.087  \n",
       "4     14.307910   0.1   0.18  0.145    -0.035       -0.056  \n",
       "...         ...   ...    ...    ...       ...          ...  \n",
       "5839  18.753261   0.1   2.54  1.058    -1.482       -1.059  \n",
       "5840   3.095548   0.1   1.51  0.782    -0.728       -1.482  \n",
       "5841   0.000000   0.1   1.09  0.698    -0.392       -0.728  \n",
       "5842   0.000000   0.1   0.88  0.664    -0.216       -0.392  \n",
       "5843   0.000000   0.1   0.76  0.717    -0.043       -0.216  \n",
       "\n",
       "[5844 rows x 32 columns]"
      ]
     },
     "metadata": {},
     "output_type": "display_data"
    }
   ],
   "source": [
    "# Display training data frame for one catchment\n",
    "display(load_training_data(file_nr))"
   ]
  },
  {
   "cell_type": "markdown",
   "metadata": {},
   "source": [
    "### Data reshaping for LSTM training\n",
    "Next we need another utility function to reshape the data into an appropriate format for training LSTMs. These recurrent neural networks expect sequential input of the shape `(sequence length, number of features)`. We train our network to predict a single day of discharge from *n* days of precendent meteorological observations. For example, lets assume that _n_ = 365, then a single training sample should be of shape `(365, number of features)`, and since we use 2 input features the shape is `(365, 2)`. Here the features are temperature and rain fall.\n",
    "\n",
    "However, when loaded from the files the entire data is stored in a matrix, where the number of rows correspond to the total number of days in the training set and the number of columns to the features. Thus we need to slide over this matrix and cut out small samples appropriate to our LSTM setting. To speed things up, we make use of the awesome Numba library here (the little @njit decorator JIT-compiles this function and dramatically increases the speed)."
   ]
  },
  {
   "cell_type": "code",
   "execution_count": 111,
   "metadata": {},
   "outputs": [],
   "source": [
    "@njit\n",
    "def reshape_data(x: np.ndarray, y: np.ndarray, seq_length: int) -> Tuple[np.ndarray, np.ndarray]:\n",
    "    \"\"\"\n",
    "    Reshape matrix data into sample shape for LSTM training.\n",
    "\n",
    "    :param x: Matrix containing input features column wise and time steps row wise\n",
    "    :param y: Matrix containing the output feature.\n",
    "    :param seq_length: Length of look back days for one day of prediction\n",
    "    \n",
    "    :return: Two np.ndarrays, the first of shape (samples, length of sequence,\n",
    "        number of features), containing the input data for the LSTM. The second\n",
    "        of shape (samples, 1) containing the expected output for each input\n",
    "        sample.\n",
    "    \"\"\"\n",
    "    num_samples, num_features = x.shape\n",
    "\n",
    "    x_new = np.zeros((num_samples - seq_length + 1, seq_length, num_features))\n",
    "    y_new = np.zeros((num_samples - seq_length + 1, 1))\n",
    "\n",
    "    for i in range(0, x_new.shape[0]):\n",
    "        x_new[i, :, :num_features] = x[i:i + seq_length, :]\n",
    "        y_new[i, :] = y[i + seq_length - 1, 0]\n",
    "\n",
    "    return x_new, y_new"
   ]
  },
  {
   "cell_type": "markdown",
   "metadata": {},
   "source": [
    "### PyTorch data set\n",
    "Now we wrap everything into a PyTorch Dataset. These are specific classes that can be used by PyTorchs DataLoader class for generating mini-batches (and do this in parallel in multiple threads). Such a data set class has to inherit from the PyTorch Dataset class and three functions have to be implemented\n",
    "\n",
    "1. __init__(): The object initializing function.\n",
    "2. __len__(): This function has to return the number of samples in the data set.\n",
    "3. __getitem__(i): A function that returns sample `i` of the data set (sample + target value)."
   ]
  },
  {
   "cell_type": "code",
   "execution_count": 112,
   "metadata": {},
   "outputs": [],
   "source": [
    "class NVE_TXT(Dataset):\n",
    "    \"\"\"Torch Dataset for basic use of data from the NVE data set.\n",
    "\n",
    "    This data set provides meteorological observations and discharge of a given\n",
    "    catchment from the NVE data set.\n",
    "    \"\"\"\n",
    "\n",
    "    def __init__(self, catchment: int, seq_length: int=365,period: str=None,\n",
    "                 dates: List=None, means: pd.Series=None, stds: pd.Series=None):\n",
    "        \"\"\"Initialize Dataset containing the data of a single catchment.\n",
    "\n",
    "        :param catchment: number (id) indicating a given NVE catchment \n",
    "        :param seq_length: (optional) Length of the time window of\n",
    "            meteorological input provided for one time step of prediction.\n",
    "        :param period: (optional) One of ['train', 'eval']. None loads the \n",
    "            entire time series.\n",
    "        :param dates: (optional) List of pd.DateTimes of the start and end date \n",
    "            of the discharge period that is used.\n",
    "        :param means: (optional) Means of input and output features derived from\n",
    "            the training period. Has to be provided for 'eval' period. Can be\n",
    "            retrieved if calling .get_means() on the data set.\n",
    "        :param stds: (optional) Stds of input and output features derived from\n",
    "            the training period. Has to be provided for 'eval' period. Can be\n",
    "            retrieved if calling .get_stds() on the data set.\n",
    "        \"\"\"\n",
    "        self.catchment = catchment\n",
    "        self.seq_length = seq_length\n",
    "        self.period = period\n",
    "        self.dates = dates\n",
    "        self.means = means\n",
    "        self.stds = stds\n",
    "            \n",
    "        # load data into memory\n",
    "        self.x, self.y = self._load_data()\n",
    "\n",
    "        # store number of samples as class attribute\n",
    "        self.num_samples = self.x.shape[0]\n",
    "\n",
    "    def __len__(self):\n",
    "        return self.num_samples\n",
    "\n",
    "    def __getitem__(self, idx: int):\n",
    "        return self.x[idx], self.y[idx]\n",
    "\n",
    "    def _load_data(self):\n",
    "        \"\"\"Load input and output data from text files.\"\"\"\n",
    "        #df = load_forcing_and_discharge(self.catchment)\n",
    "        df = load_training_data(self.catchment)\n",
    "        if self.dates is not None:\n",
    "            # Truncate data after start and end date\n",
    "            df = df[df['timestamp'] >= self.dates[0]]\n",
    "            df = df[df['timestamp'] < self.dates[1]]\n",
    "        \n",
    "        # if training period store means and stds\n",
    "        if self.period == 'train':\n",
    "            self.means = df.mean()\n",
    "            self.stds = df.std()         \n",
    "        \n",
    "        # extract input and output features from DataFrame\n",
    "        x = np.array([df['mm1'].values,\n",
    "                      df['mm2'].values,\n",
    "                      df['mm3'].values,\n",
    "                      df['mm4'].values,\n",
    "                      df['mm5'].values,\n",
    "                      df['mm6'].values,\n",
    "                      df['mm7'].values,\n",
    "                      df['mm8'].values,\n",
    "                      df['mm9'].values,\n",
    "                      df['mm10'].values,\n",
    "                      df['grC1'].values,\n",
    "                      df['grC2'].values,\n",
    "                      df['grC3'].values,\n",
    "                      df['grC4'].values,\n",
    "                      df['grC5'].values,\n",
    "                      df['grC6'].values,\n",
    "                      df['grC7'].values,\n",
    "                      df['grC8'].values,\n",
    "                      df['grC9'].values,\n",
    "                      df['grC10'].values,\n",
    "                      df['Residual_in'].values,\n",
    "                      df['EPOT'].values]).T\n",
    "        y = np.array([df['Residual'].values]).T\n",
    "        \n",
    "        # normalize data, reshape for LSTM training and remove invalid samples\n",
    "        x = self._local_normalization(x, variable='inputs')\n",
    "        x, y = reshape_data(x, y, self.seq_length)                      \n",
    "\n",
    "        if self.period == \"train\":            \n",
    "            # normalize discharge\n",
    "            y = self._local_normalization(y, variable='output')\n",
    "\n",
    "        # convert arrays to torch tensors\n",
    "        x = torch.from_numpy(x.astype(np.float32))\n",
    "        y = torch.from_numpy(y.astype(np.float32))\n",
    "\n",
    "        return x, y\n",
    "\n",
    "    def _local_normalization(self, feature: np.ndarray, variable: str) -> \\\n",
    "            np.ndarray:\n",
    "        \"\"\"Normalize input/output features with local mean/std.\n",
    "\n",
    "        :param feature: Numpy array containing the feature(s) as matrix.\n",
    "        :param variable: Either 'inputs' or 'output' showing which feature will\n",
    "            be normalized\n",
    "        :return: array containing the normalized feature\n",
    "        \"\"\"\n",
    "        if variable == 'inputs':\n",
    "            means = np.array([self.means['mm1'],\n",
    "                              self.means['mm2'],\n",
    "                              self.means['mm3'],\n",
    "                              self.means['mm4'],\n",
    "                              self.means['mm5'],\n",
    "                              self.means['mm6'],\n",
    "                              self.means['mm7'],\n",
    "                              self.means['mm8'],\n",
    "                              self.means['mm9'],\n",
    "                              self.means['mm10'],\n",
    "                              self.means['grC1'],\n",
    "                              self.means['grC2'],\n",
    "                              self.means['grC3'],\n",
    "                              self.means['grC4'],\n",
    "                              self.means['grC5'],\n",
    "                              self.means['grC6'],\n",
    "                              self.means['grC7'],\n",
    "                              self.means['grC8'],\n",
    "                              self.means['grC9'],\n",
    "                              self.means['grC10'],\n",
    "                              self.means['Residual_in'],\n",
    "                              self.means['EPOT']])\n",
    "            stds = np.array([self.stds['mm1'],\n",
    "                             self.stds['mm2'],\n",
    "                             self.stds['mm3'],\n",
    "                             self.stds['mm4'],\n",
    "                             self.stds['mm5'],\n",
    "                             self.stds['mm6'],\n",
    "                             self.stds['mm7'],\n",
    "                             self.stds['mm8'],\n",
    "                             self.stds['mm9'],\n",
    "                             self.stds['mm10'],\n",
    "                             self.stds['grC1'],\n",
    "                             self.stds['grC2'],\n",
    "                             self.stds['grC3'],\n",
    "                             self.stds['grC4'],\n",
    "                             self.stds['grC5'],\n",
    "                             self.stds['grC6'],\n",
    "                             self.stds['grC7'],\n",
    "                             self.stds['grC8'],\n",
    "                             self.stds['grC9'],\n",
    "                             self.stds['grC10'],\n",
    "                             self.stds['Residual_in'],\n",
    "                             self.stds['EPOT']])\n",
    "            feature = (feature - means) / stds\n",
    "        elif variable == 'output':\n",
    "            feature = ((feature - self.means[\"Residual\"]) /\n",
    "                       self.stds[\"Residual\"])\n",
    "        else:\n",
    "            raise RuntimeError(f\"Unknown variable type {variable}\")\n",
    "\n",
    "        return feature\n",
    "    \n",
    "    def local_rescale(self, feature: np.ndarray, variable: str) -> \\\n",
    "            np.ndarray:\n",
    "        \"\"\"Rescale input/output features with local mean/std.\n",
    "\n",
    "        :param feature: Numpy array containing the feature(s) as matrix.\n",
    "        :param variable: Either 'inputs' or 'output' showing which feature will\n",
    "            be normalized\n",
    "        :return: array containing the normalized feature\n",
    "        \"\"\"\n",
    "        if variable == 'inputs':\n",
    "            means = np.array([self.means['mm1'],\n",
    "                              self.means['mm2'],\n",
    "                              self.means['mm3'],\n",
    "                              self.means['mm4'],\n",
    "                              self.means['mm5'],\n",
    "                              self.means['mm6'],\n",
    "                              self.means['mm7'],\n",
    "                              self.means['mm8'],\n",
    "                              self.means['mm9'],\n",
    "                              self.means['mm10'],\n",
    "                              self.means['grC1'],\n",
    "                              self.means['grC2'],\n",
    "                              self.means['grC3'],\n",
    "                              self.means['grC4'],\n",
    "                              self.means['grC5'],\n",
    "                              self.means['grC6'],\n",
    "                              self.means['grC7'],\n",
    "                              self.means['grC8'],\n",
    "                              self.means['grC9'],\n",
    "                              self.means['grC10'],\n",
    "                              self.means['Residual_in'],\n",
    "                              self.means['EPOT']])\n",
    "            stds = np.array([self.stds['mm1'],\n",
    "                             self.stds['mm2'],\n",
    "                             self.stds['mm3'],\n",
    "                             self.stds['mm4'],\n",
    "                             self.stds['mm5'],\n",
    "                             self.stds['mm6'],\n",
    "                             self.stds['mm7'],\n",
    "                             self.stds['mm8'],\n",
    "                             self.stds['mm9'],\n",
    "                             self.stds['mm10'],\n",
    "                             self.stds['grC1'],\n",
    "                             self.stds['grC2'],\n",
    "                             self.stds['grC3'],\n",
    "                             self.stds['grC4'],\n",
    "                             self.stds['grC5'],\n",
    "                             self.stds['grC6'],\n",
    "                             self.stds['grC7'],\n",
    "                             self.stds['grC8'],\n",
    "                             self.stds['grC9'],\n",
    "                             self.stds['grC10'],\n",
    "                             self.stds['Residual_in'],\n",
    "                             self.stds['EPOT']])\n",
    "            feature = feature * stds + means\n",
    "        elif variable == 'output':\n",
    "            feature = (feature * self.stds[\"Residual\"] +\n",
    "                       self.means[\"Residual\"])\n",
    "        else:\n",
    "            raise RuntimeError(f\"Unknown variable type {variable}\")\n",
    "\n",
    "        return feature\n",
    "\n",
    "    def get_means(self):\n",
    "        return self.means\n",
    "\n",
    "    def get_stds(self):\n",
    "        return self.stds\n"
   ]
  },
  {
   "cell_type": "markdown",
   "metadata": {},
   "source": [
    "## Build LSTM model\n",
    "\n",
    "Here we implement a single layer LSTM with optional dropout in the final fully connected layer. Using PyTorch, we need to inherit from the `nn.Module` class and implement the `__init__()`, as well as a `forward()` function. To make things easy, we make use of the standard LSTM layer included in the PyTorch library.\n",
    "\n",
    "The forward function implements the entire forward pass through the network, while the backward pass, used for updating the weights during training, is automatically derived from PyTorch autograd functionality."
   ]
  },
  {
   "cell_type": "code",
   "execution_count": 113,
   "metadata": {},
   "outputs": [],
   "source": [
    "class Model(nn.Module):\n",
    "    \"\"\"Implementation of a single layer LSTM network\"\"\"\n",
    "    \n",
    "    def __init__(self, hidden_size: int, dropout_rate: float=0.0):\n",
    "        \"\"\"Initialize model\n",
    "        \n",
    "        :param hidden_size: Number of hidden units/LSTM cells\n",
    "        :param dropout_rate: Dropout rate of the last fully connected\n",
    "            layer. Default 0.0\n",
    "        \"\"\"\n",
    "        super(Model, self).__init__()\n",
    "        self.hidden_size = hidden_size\n",
    "        self.dropout_rate = dropout_rate\n",
    "        \n",
    "        # create required layer\n",
    "        self.lstm = nn.LSTM(input_size=22, hidden_size=self.hidden_size, \n",
    "                            num_layers=1, bias=True, batch_first=True)\n",
    "        self.dropout = nn.Dropout(p=self.dropout_rate)\n",
    "        self.fc = nn.Linear(in_features=self.hidden_size, out_features=1)\n",
    "        \n",
    "    def forward(self, x: torch.Tensor) -> torch.Tensor:\n",
    "        \"\"\"Forward pass through the Network.\n",
    "        \n",
    "        :param x: Tensor of shape [batch size, seq length, num features]\n",
    "            containing the input data for the LSTM network.\n",
    "        \n",
    "        :return: Tensor containing the network predictions\n",
    "        \"\"\"\n",
    "        output, (h_n, c_n) = self.lstm(x)\n",
    "        \n",
    "        # perform prediction only at the end of the input sequence\n",
    "        pred = self.fc(self.dropout(h_n[-1,:,:]))\n",
    "        return pred"
   ]
  },
  {
   "cell_type": "markdown",
   "metadata": {},
   "source": [
    "## Train utilities\n",
    "\n",
    "Next we are implementing two functions for training and evaluating the model.\n",
    "\n",
    "- `train_epoch()`: This function iterates one time over the entire training data set (called one epoch) and updates the weights of the network to minimize the loss function (we use the mean squared error here).\n",
    "- `eval_model()`: To this function evaluates a data set and returns the predictions, as well as observations.\n",
    "\n",
    "Furthermore we implement a function `calc_nse()` to calculate the Nash-Sutcliffe-Efficiency for our model"
   ]
  },
  {
   "cell_type": "code",
   "execution_count": 114,
   "metadata": {},
   "outputs": [],
   "source": [
    "def train_epoch(model, optimizer, loader, loss_func, epoch):\n",
    "    \"\"\"Train model for a single epoch.\n",
    "\n",
    "    :param model: A torch.nn.Module implementing the LSTM model\n",
    "    :param optimizer: One of PyTorchs optimizer classes.\n",
    "    :param loader: A PyTorch DataLoader, providing the trainings\n",
    "        data in mini batches.\n",
    "    :param loss_func: The loss function to minimize.\n",
    "    :param epoch: The current epoch (int) used for the progress bar\n",
    "    \"\"\"\n",
    "    # set model to train mode (important for dropout)\n",
    "    model.train()\n",
    "    pbar = tqdm.tqdm_notebook(loader)\n",
    "    pbar.set_description(f\"Epoch {epoch}\")\n",
    "    # request mini-batch of data from the loader\n",
    "    for xs, ys in pbar:\n",
    "        # delete previously stored gradients from the model\n",
    "        optimizer.zero_grad()\n",
    "        # push data to GPU (if available)\n",
    "        xs, ys = xs.to(DEVICE), ys.to(DEVICE)\n",
    "        # get model predictions\n",
    "        y_hat = model(xs)\n",
    "        # calculate loss\n",
    "        loss = loss_func(y_hat, ys)\n",
    "        # calculate gradients\n",
    "        loss.backward()\n",
    "        # update the weights\n",
    "        optimizer.step()\n",
    "        # write current loss in the progress bar\n",
    "        pbar.set_postfix_str(f\"Loss: {loss.item():.4f}\")\n",
    "\n",
    "        \n",
    "def eval_model(model, loader) -> Tuple[torch.Tensor, torch.Tensor]:\n",
    "    \"\"\"Evaluate the model.\n",
    "\n",
    "    :param model: A torch.nn.Module implementing the LSTM model\n",
    "    :param loader: A PyTorch DataLoader, providing the data.\n",
    "    \n",
    "    :return: Two torch Tensors, containing the observations and \n",
    "        model predictions\n",
    "    \"\"\"\n",
    "    # set model to eval mode (important for dropout)\n",
    "    model.eval()\n",
    "    obs = []\n",
    "    preds = []\n",
    "    # in inference mode, we don't need to store intermediate steps for\n",
    "    # backprob\n",
    "    with torch.no_grad():\n",
    "        # request mini-batch of data from the loader\n",
    "        for xs, ys in loader:\n",
    "            # push data to GPU (if available)\n",
    "            xs = xs.to(DEVICE)\n",
    "            # get model predictions\n",
    "            y_hat = model(xs)\n",
    "            obs.append(ys)\n",
    "            preds.append(y_hat)\n",
    "            \n",
    "    return torch.cat(obs), torch.cat(preds)\n",
    "        \n",
    "def calc_nse(obs: np.array, sim: np.array) -> float:\n",
    "    \"\"\"Calculate Nash-Sutcliff-Efficiency.\n",
    "\n",
    "    :param obs: Array containing the observations\n",
    "    :param sim: Array containing the simulations\n",
    "    :return: NSE value.\n",
    "    \"\"\"\n",
    "    # only consider time steps, where observations are available\n",
    "    sim = np.delete(sim, np.argwhere(obs < 0), axis=0)\n",
    "    obs = np.delete(obs, np.argwhere(obs < 0), axis=0)\n",
    "\n",
    "    # check for NaNs in observations\n",
    "    sim = np.delete(sim, np.argwhere(np.isnan(obs)), axis=0)\n",
    "    obs = np.delete(obs, np.argwhere(np.isnan(obs)), axis=0)\n",
    "\n",
    "    denominator = np.sum((obs - np.mean(obs)) ** 2)\n",
    "    numerator = np.sum((sim - obs) ** 2)\n",
    "    nse_val = 1 - numerator / denominator\n",
    "\n",
    "    return nse_val"
   ]
  },
  {
   "cell_type": "markdown",
   "metadata": {},
   "source": [
    "## Prepare everything for training\n",
    "\n",
    "Now that we have everything needed, we have to do the following steps:\n",
    "\n",
    "- Specify a training, as well independent validation and test periods. For each of the three create a PyTorch data set and with these data sets PyTorch DataLoader. These DataLoader put single samples together to mini-batches that we use to train the network.\n",
    "- Initialize the model\n",
    "- Create a optimizer\n",
    "- Define the loss function"
   ]
  },
  {
   "cell_type": "code",
   "execution_count": 115,
   "metadata": {},
   "outputs": [
    {
     "name": "stdout",
     "output_type": "stream",
     "text": [
      "Training data length: 2191\n",
      "Validation data length: 366\n",
      "Test data length: 2557\n"
     ]
    }
   ],
   "source": [
    "catchment = file_nr # can be changed to any catchment id contained in the NVE data set\n",
    "hidden_size = 10 # Number of LSTM cells\n",
    "dropout_rate = 0.0 # Dropout rate of the final fully connected Layer [0.0, 1.0]\n",
    "learning_rate = 10*1e-3 # Learning rate used to update the weights\n",
    "sequence_length = 365 # Length of the meteorological record provided to the network\n",
    "\n",
    "##############\n",
    "# Data set up#\n",
    "##############\n",
    "\n",
    "# Training data\n",
    "start_date = pd.to_datetime(\"2000-09-01\", format=\"%Y-%m-%d\")\n",
    "end_date = pd.to_datetime(\"2007-08-31\", format=\"%Y-%m-%d\")\n",
    "ds_train = NVE_TXT(catchment, seq_length=sequence_length, period=\"train\", dates=[start_date, end_date])\n",
    "tr_loader = DataLoader(ds_train, batch_size=256, shuffle=True)\n",
    "print(f\"Training data length: {len(ds_train)}\")\n",
    "\n",
    "# Validation data. We use the feature means/stds of the training period for normalization\n",
    "means = ds_train.get_means()\n",
    "stds = ds_train.get_stds()\n",
    "start_date = pd.to_datetime(\"2007-09-01\", format=\"%Y-%m-%d\")\n",
    "end_date = pd.to_datetime(\"2009-08-31\", format=\"%Y-%m-%d\")\n",
    "ds_val = NVE_TXT(catchment, seq_length=sequence_length, period=\"eval\", dates=[start_date, end_date],\n",
    "                     means=means, stds=stds)\n",
    "val_loader = DataLoader(ds_val, batch_size=2048, shuffle=False)\n",
    "print(f\"Validation data length: {len(ds_val)}\")\n",
    "\n",
    "# Test data. We use the feature means/stds of the training period for normalization\n",
    "start_date_test = pd.to_datetime(\"2007-09-01\", format=\"%Y-%m-%d\")\n",
    "end_date_test = pd.to_datetime(\"2015-08-31\", format=\"%Y-%m-%d\")\n",
    "ds_test = NVE_TXT(catchment, seq_length=sequence_length, period=\"eval\", dates=[start_date_test, end_date_test],\n",
    "                     means=means, stds=stds)\n",
    "test_loader = DataLoader(ds_test, batch_size=2048, shuffle=False)\n",
    "print(f\"Test data length: {len(ds_test)}\")\n",
    "\n",
    "#########################\n",
    "# Model, Optimizer, Loss#\n",
    "#########################\n",
    "\n",
    "# Here we create our model, feel free \n",
    "model = Model(hidden_size=hidden_size, dropout_rate=dropout_rate).to(DEVICE)\n",
    "optimizer = torch.optim.Adam(model.parameters(), lr=learning_rate)\n",
    "loss_func = nn.MSELoss()"
   ]
  },
  {
   "cell_type": "markdown",
   "metadata": {},
   "source": [
    "## Train the model\n",
    "Now we gonna train the model for some number of epochs. After each epoch we evaluate the model on the validation period and print out the NSE."
   ]
  },
  {
   "cell_type": "code",
   "execution_count": 116,
   "metadata": {},
   "outputs": [
    {
     "name": "stderr",
     "output_type": "stream",
     "text": [
      "<ipython-input-114-ed41dce149ba>:13: TqdmDeprecationWarning: This function will be removed in tqdm==5.0.0\n",
      "Please use `tqdm.notebook.tqdm` instead of `tqdm.tqdm_notebook`\n",
      "  pbar = tqdm.tqdm_notebook(loader)\n"
     ]
    },
    {
     "data": {
      "application/vnd.jupyter.widget-view+json": {
       "model_id": "dec02983b12946f38f0eefb0c0606d2a",
       "version_major": 2,
       "version_minor": 0
      },
      "text/plain": [
       "HBox(children=(FloatProgress(value=0.0, max=9.0), HTML(value='')))"
      ]
     },
     "metadata": {},
     "output_type": "display_data"
    },
    {
     "name": "stdout",
     "output_type": "stream",
     "text": [
      "\n",
      "Validation NSE: -0.198\n"
     ]
    },
    {
     "data": {
      "application/vnd.jupyter.widget-view+json": {
       "model_id": "e5037d569eb3416e81c431ffc40caa16",
       "version_major": 2,
       "version_minor": 0
      },
      "text/plain": [
       "HBox(children=(FloatProgress(value=0.0, max=9.0), HTML(value='')))"
      ]
     },
     "metadata": {},
     "output_type": "display_data"
    },
    {
     "name": "stdout",
     "output_type": "stream",
     "text": [
      "\n",
      "Validation NSE: -1.185\n"
     ]
    },
    {
     "data": {
      "application/vnd.jupyter.widget-view+json": {
       "model_id": "7cde2c2f46314710b1593e2c804eb27b",
       "version_major": 2,
       "version_minor": 0
      },
      "text/plain": [
       "HBox(children=(FloatProgress(value=0.0, max=9.0), HTML(value='')))"
      ]
     },
     "metadata": {},
     "output_type": "display_data"
    },
    {
     "name": "stdout",
     "output_type": "stream",
     "text": [
      "\n",
      "Validation NSE: -2.275\n"
     ]
    },
    {
     "data": {
      "application/vnd.jupyter.widget-view+json": {
       "model_id": "d460f08a1f7e45509b19b4c534b73907",
       "version_major": 2,
       "version_minor": 0
      },
      "text/plain": [
       "HBox(children=(FloatProgress(value=0.0, max=9.0), HTML(value='')))"
      ]
     },
     "metadata": {},
     "output_type": "display_data"
    },
    {
     "name": "stdout",
     "output_type": "stream",
     "text": [
      "\n",
      "Validation NSE: -1.649\n"
     ]
    },
    {
     "data": {
      "application/vnd.jupyter.widget-view+json": {
       "model_id": "64be5937929342469dbd86a8d97f13fb",
       "version_major": 2,
       "version_minor": 0
      },
      "text/plain": [
       "HBox(children=(FloatProgress(value=0.0, max=9.0), HTML(value='')))"
      ]
     },
     "metadata": {},
     "output_type": "display_data"
    },
    {
     "name": "stdout",
     "output_type": "stream",
     "text": [
      "\n",
      "Validation NSE: -1.650\n"
     ]
    },
    {
     "data": {
      "application/vnd.jupyter.widget-view+json": {
       "model_id": "8daf661717f34559a555f48b2d8973e7",
       "version_major": 2,
       "version_minor": 0
      },
      "text/plain": [
       "HBox(children=(FloatProgress(value=0.0, max=9.0), HTML(value='')))"
      ]
     },
     "metadata": {},
     "output_type": "display_data"
    },
    {
     "name": "stdout",
     "output_type": "stream",
     "text": [
      "\n",
      "Validation NSE: -1.783\n"
     ]
    },
    {
     "data": {
      "application/vnd.jupyter.widget-view+json": {
       "model_id": "5423fe122ac2414f80b609323af42b16",
       "version_major": 2,
       "version_minor": 0
      },
      "text/plain": [
       "HBox(children=(FloatProgress(value=0.0, max=9.0), HTML(value='')))"
      ]
     },
     "metadata": {},
     "output_type": "display_data"
    },
    {
     "name": "stdout",
     "output_type": "stream",
     "text": [
      "\n",
      "Validation NSE: -1.695\n"
     ]
    },
    {
     "data": {
      "application/vnd.jupyter.widget-view+json": {
       "model_id": "6a4fdc938850445ab9f2069080aab34a",
       "version_major": 2,
       "version_minor": 0
      },
      "text/plain": [
       "HBox(children=(FloatProgress(value=0.0, max=9.0), HTML(value='')))"
      ]
     },
     "metadata": {},
     "output_type": "display_data"
    },
    {
     "name": "stdout",
     "output_type": "stream",
     "text": [
      "\n",
      "Validation NSE: -0.848\n"
     ]
    },
    {
     "data": {
      "application/vnd.jupyter.widget-view+json": {
       "model_id": "2b5641bc5c4d41a2a63f76252d1283bf",
       "version_major": 2,
       "version_minor": 0
      },
      "text/plain": [
       "HBox(children=(FloatProgress(value=0.0, max=9.0), HTML(value='')))"
      ]
     },
     "metadata": {},
     "output_type": "display_data"
    },
    {
     "name": "stdout",
     "output_type": "stream",
     "text": [
      "\n",
      "Validation NSE: -1.707\n"
     ]
    },
    {
     "data": {
      "application/vnd.jupyter.widget-view+json": {
       "model_id": "1794ba6bb39343a385e336188b4caa59",
       "version_major": 2,
       "version_minor": 0
      },
      "text/plain": [
       "HBox(children=(FloatProgress(value=0.0, max=9.0), HTML(value='')))"
      ]
     },
     "metadata": {},
     "output_type": "display_data"
    },
    {
     "name": "stdout",
     "output_type": "stream",
     "text": [
      "\n",
      "Validation NSE: -1.134\n"
     ]
    }
   ],
   "source": [
    "n_epochs = 10 # Number of training epochs\n",
    "\n",
    "for i in range(n_epochs):\n",
    "    train_epoch(model, optimizer, tr_loader, loss_func, i+1)\n",
    "    obs, preds = eval_model(model, val_loader)\n",
    "    preds = ds_val.local_rescale(preds.numpy(), variable='output')\n",
    "    nse = calc_nse(obs.numpy(), preds)\n",
    "    tqdm.tqdm.write(f\"Validation NSE: {nse:.3f}\")"
   ]
  },
  {
   "cell_type": "markdown",
   "metadata": {},
   "source": [
    "## Evaluate independent test set\n",
    "Finally, we can can evaluate our model on the unseen test data, calculate the NSE and plot some observations vs predictions"
   ]
  },
  {
   "cell_type": "markdown",
   "metadata": {},
   "source": [
    "### Residual NSE plot"
   ]
  },
  {
   "cell_type": "code",
   "execution_count": 117,
   "metadata": {},
   "outputs": [
    {
     "data": {
      "image/png": "[encoded data removed]",
      "text/plain": [
       "<Figure size 864x288 with 1 Axes>"
      ]
     },
     "metadata": {
      "needs_background": "light"
     },
     "output_type": "display_data"
    },
    {
     "data": {
      "text/plain": [
       "<Figure size 1440x1152 with 0 Axes>"
      ]
     },
     "metadata": {},
     "output_type": "display_data"
    }
   ],
   "source": [
    "# Evaluate on test set\n",
    "obs, preds = eval_model(model, test_loader)\n",
    "preds = ds_val.local_rescale(preds.numpy(), variable='output')\n",
    "obs = obs.numpy()\n",
    "nse = calc_nse(obs, preds)\n",
    "\n",
    "# Plot results\n",
    "fig, ax = plt.subplots(figsize=(12, 4))\n",
    "\n",
    "#start_date = ds_test.dates[0]\n",
    "#end_date = ds_test.dates[1] + pd.DateOffset(days=1)\n",
    "#date_range = pd.date_range(start_date, end_date)\n",
    "\n",
    "plt.figure(figsize=(20, 16))\n",
    "ax.plot(obs, label=\"observation\")\n",
    "ax.plot(preds, label=\"prediction\")\n",
    "ax.legend()\n",
    "\n",
    "ax.set_title(f\"Catchment {catchment} - Residual NSE: {nse:.3f}\")\n",
    "ax.xaxis.set_tick_params(rotation=90)\n",
    "ax.set_xlabel(\"Days\")\n",
    "_ = ax.set_ylabel(\"Residuals (m3/s)\")\n",
    "\n",
    "fig.savefig(f\"LSTM Plots/LSTM_Residuals_&_BB_test_NSE_{file_nr}.png\")"
   ]
  },
  {
   "cell_type": "code",
   "execution_count": 118,
   "metadata": {},
   "outputs": [],
   "source": [
    "def load_sim_obs_data(catchment: int, dates: List=None):\n",
    "    \"\"\"Initialize Dataset containing the data of a single catchment.\n",
    "\n",
    "    :param catchment: number (id) indicating a given NVE catchment \n",
    "    :param dates: (optional) List of pd.DateTimes of the start and end date \n",
    "        of the discharge period that is used.\n",
    "    \"\"\"\n",
    "    df = load_training_data(catchment)\n",
    "    if dates is not None:\n",
    "        # Truncate data after start and end date\n",
    "        df = df[df['timestamp'] >= dates[0]]\n",
    "        df = df[df['timestamp'] < dates[1]]\n",
    "        \n",
    "        \n",
    "    sim = np.array([df['Q_sim'].values]).T\n",
    "    obs = np.array([df['Q_obs'].values]).T\n",
    "    \n",
    "    _, obs_out = reshape_data(sim, obs, 365)  \n",
    "    _, sim_out = reshape_data(obs, sim, 365)  \n",
    "    \n",
    "    return sim_out, obs_out\n",
    "    "
   ]
  },
  {
   "cell_type": "markdown",
   "metadata": {},
   "source": [
    "### Simulation model NSE plot"
   ]
  },
  {
   "cell_type": "code",
   "execution_count": 119,
   "metadata": {},
   "outputs": [
    {
     "data": {
      "image/png": "[encoded data removed]",
      "text/plain": [
       "<Figure size 864x288 with 1 Axes>"
      ]
     },
     "metadata": {
      "needs_background": "light"
     },
     "output_type": "display_data"
    },
    {
     "data": {
      "text/plain": [
       "<Figure size 1440x1152 with 0 Axes>"
      ]
     },
     "metadata": {},
     "output_type": "display_data"
    }
   ],
   "source": [
    "# Evaluate on test set\n",
    "Q_sim, Q_obs = load_sim_obs_data(catchment, dates=[start_date_test, end_date_test])\n",
    "\n",
    "Q_sim_sum = Q_sim\n",
    "\n",
    "#obs = obs.numpy()\n",
    "nse = calc_nse(Q_obs, Q_sim_sum)\n",
    "\n",
    "# Plot results\n",
    "fig, ax = plt.subplots(figsize=(12, 4))\n",
    "\n",
    "#start_date = ds_test.dates[0]\n",
    "#end_date = ds_test.dates[1] + pd.DateOffset(days=1)\n",
    "#date_range = pd.date_range(start_date, end_date)\n",
    "\n",
    "plt.figure(figsize=(20, 16))\n",
    "ax.plot(Q_obs, label=\"observation\")\n",
    "ax.plot(Q_sim_sum, label=\"prediction\")\n",
    "ax.legend()\n",
    "\n",
    "ax.set_title(f\"Catchment {catchment} - Simulated NSE: {nse:.3f}\")\n",
    "ax.xaxis.set_tick_params(rotation=90)\n",
    "ax.set_xlabel(\"Days\")\n",
    "_ = ax.set_ylabel(\"Runoff (m3/s)\")\n",
    "\n",
    "fig.savefig(f\"LSTM Plots/LSTM_Simulated_test_NSE_{file_nr}.png\")"
   ]
  },
  {
   "cell_type": "markdown",
   "metadata": {},
   "source": [
    "### Total NSE plot"
   ]
  },
  {
   "cell_type": "code",
   "execution_count": 120,
   "metadata": {},
   "outputs": [
    {
     "data": {
      "image/png": "[encoded data removed]",
      "text/plain": [
       "<Figure size 864x288 with 1 Axes>"
      ]
     },
     "metadata": {
      "needs_background": "light"
     },
     "output_type": "display_data"
    },
    {
     "data": {
      "text/plain": [
       "<Figure size 1440x1152 with 0 Axes>"
      ]
     },
     "metadata": {},
     "output_type": "display_data"
    }
   ],
   "source": [
    "# Evaluate on test set\n",
    "obs, preds = eval_model(model, test_loader)\n",
    "preds = ds_val.local_rescale(preds.numpy(), variable='output')\n",
    "\n",
    "Q_sim, Q_obs = load_sim_obs_data(catchment, dates=[start_date_test, end_date_test])\n",
    "\n",
    "Q_sim_sum = Q_sim -preds\n",
    "\n",
    "#obs = obs.numpy()\n",
    "nse = calc_nse(Q_obs, Q_sim_sum)\n",
    "\n",
    "# Plot results\n",
    "fig, ax = plt.subplots(figsize=(12, 4))\n",
    "\n",
    "#start_date = ds_test.dates[0]\n",
    "#end_date = ds_test.dates[1] + pd.DateOffset(days=1)\n",
    "#date_range = pd.date_range(start_date, end_date)\n",
    "\n",
    "plt.figure(figsize=(20, 16))\n",
    "ax.plot(Q_obs, label=\"observation\")\n",
    "ax.plot(Q_sim_sum, label=\"prediction\")\n",
    "ax.legend()\n",
    "\n",
    "ax.set_title(f\"Catchment {catchment} - Simulated+BB NSE: {nse:.3f}\")\n",
    "ax.xaxis.set_tick_params(rotation=90)\n",
    "ax.set_xlabel(\"Days\")\n",
    "_ = ax.set_ylabel(\"Runoff (m3/s)\")\n",
    "\n",
    "fig.savefig(f\"LSTM Plots/LSTM_Simulated_&_BB_test_NSE_{file_nr}.png\")"
   ]
  },
  {
   "cell_type": "code",
   "execution_count": 122,
   "metadata": {},
   "outputs": [
    {
     "data": {
      "text/plain": [
       "[<matplotlib.lines.Line2D at 0x7fb2838d8760>]"
      ]
     },
     "execution_count": 122,
     "metadata": {},
     "output_type": "execute_result"
    },
    {
     "data": {
      "image/png": "[encoded data removed]",
      "text/plain": [
       "<Figure size 432x288 with 1 Axes>"
      ]
     },
     "metadata": {
      "needs_background": "light"
     },
     "output_type": "display_data"
    }
   ],
   "source": [
    "plt.plot(Q_sim_sum-Q_obs)"
   ]
  },
  {
   "cell_type": "code",
   "execution_count": 124,
   "metadata": {},
   "outputs": [
    {
     "data": {
      "text/plain": [
       "[<matplotlib.lines.Line2D at 0x7fb282e04f10>]"
      ]
     },
     "execution_count": 124,
     "metadata": {},
     "output_type": "execute_result"
    },
    {
     "data": {
      "image/png": "[encoded data removed]",
      "text/plain": [
       "<Figure size 432x288 with 1 Axes>"
      ]
     },
     "metadata": {
      "needs_background": "light"
     },
     "output_type": "display_data"
    }
   ],
   "source": [
    "plt.plot(abs(Q_sim_sum-Q_obs))"
   ]
  },
  {
   "cell_type": "code",
   "execution_count": 125,
   "metadata": {},
   "outputs": [
    {
     "data": {
      "text/plain": [
       "array([4.68973772])"
      ]
     },
     "execution_count": 125,
     "metadata": {},
     "output_type": "execute_result"
    }
   ],
   "source": [
    "max(abs(Q_sim_sum-Q_obs))"
   ]
  },
  {
   "cell_type": "code",
   "execution_count": null,
   "metadata": {},
   "outputs": [],
   "source": []
  }
 ],
 "metadata": {
  "kernelspec": {
   "display_name": "Python 3.8.1 64-bit ('ttk4853': conda)",
   "language": "python",
   "name": "python38164bitttk4853condac8c9289cc24d4b90aa5e3638c26a7713"
  },
  "language_info": {
   "codemirror_mode": {
    "name": "ipython",
    "version": 3
   },
   "file_extension": ".py",
   "mimetype": "text/x-python",
   "name": "python",
   "nbconvert_exporter": "python",
   "pygments_lexer": "ipython3",
   "version": "3.8.1"
  }
 },
 "nbformat": 4,
 "nbformat_minor": 4
}
