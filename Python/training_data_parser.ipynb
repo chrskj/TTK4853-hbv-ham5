{
 "cells": [
  {
   "cell_type": "markdown",
   "metadata": {},
   "source": [
    "## .top file parser functions"
   ]
  },
  {
   "cell_type": "code",
   "execution_count": 152,
   "metadata": {},
   "outputs": [],
   "source": [
    "def read_rawdata(file_nr):\n",
    "    folder = \"../Parameter files (.top)/\"\n",
    "    filename = \"NVE_par_\"+str(file_nr)+\".top\"\n",
    "    filepath = folder + filename\n",
    "\n",
    "    with open(filepath, 'rb') as f:\n",
    "        rawdata = f.read()\n",
    "    \n",
    "    # Cast byte to string data\n",
    "    return str(rawdata)    "
   ]
  },
  {
   "cell_type": "code",
   "execution_count": 148,
   "metadata": {},
   "outputs": [],
   "source": [
    "def get_param_value(data, key: str):\n",
    "    index = data.find(key)\n",
    "    \n",
    "    # NB hardcoded read indexes\n",
    "    OFFSET1 = 43\n",
    "    OFFSET2 = -7\n",
    "    \n",
    "    value = float(data[index+OFFSET1+OFFSET2:index+OFFSET1])\n",
    "    return value"
   ]
  },
  {
   "cell_type": "code",
   "execution_count": 153,
   "metadata": {},
   "outputs": [
    {
     "data": {
      "text/plain": [
       "0.0"
      ]
     },
     "execution_count": 153,
     "metadata": {},
     "output_type": "execute_result"
    }
   ],
   "source": [
    "data = read_rawdata(file_nr=1)\n",
    "\n",
    "get_param_value(data, \"GLAC5\")"
   ]
  },
  {
   "cell_type": "code",
   "execution_count": null,
   "metadata": {},
   "outputs": [],
   "source": []
  }
 ],
 "metadata": {
  "kernelspec": {
   "display_name": "Python 3.8.1 64-bit ('ttk4853': conda)",
   "language": "python",
   "name": "python38164bitttk4853condac8c9289cc24d4b90aa5e3638c26a7713"
  },
  "language_info": {
   "codemirror_mode": {
    "name": "ipython",
    "version": 3
   },
   "file_extension": ".py",
   "mimetype": "text/x-python",
   "name": "python",
   "nbconvert_exporter": "python",
   "pygments_lexer": "ipython3",
   "version": "3.8.1"
  }
 },
 "nbformat": 4,
 "nbformat_minor": 4
}
