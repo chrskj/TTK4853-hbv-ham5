{
 "cells": [
  {
   "cell_type": "markdown",
   "metadata": {},
   "source": [
    "## .top file parser functions"
   ]
  },
  {
   "cell_type": "code",
   "execution_count": 1,
   "metadata": {},
   "outputs": [],
   "source": [
    "def read_rawdata(file_nr):\n",
    "    folder = \"../Parameter files (.top)/\"\n",
    "    filename = \"NVE_par_\"+str(file_nr)+\".top\"\n",
    "    filepath = folder + filename\n",
    "\n",
    "    with open(filepath, 'rb') as f:\n",
    "        rawdata = f.read()\n",
    "    \n",
    "    # Cast byte to string data\n",
    "    return str(rawdata)    "
   ]
  },
  {
   "cell_type": "code",
   "execution_count": 2,
   "metadata": {},
   "outputs": [],
   "source": [
    "def get_param_value(data, key: str):\n",
    "    index = data.find(key)\n",
    "    \n",
    "    # NB hardcoded read indexes, found by trial \n",
    "    OFFSET1 = 43\n",
    "    OFFSET2 = -7\n",
    "    \n",
    "    value = float(data[index+OFFSET1+OFFSET2:index+OFFSET1])\n",
    "    return value"
   ]
  },
  {
   "cell_type": "markdown",
   "metadata": {},
   "source": [
    "## Key data to read from .top file"
   ]
  },
  {
   "cell_type": "code",
   "execution_count": 3,
   "metadata": {},
   "outputs": [],
   "source": [
    "## Interesting key data to read\n",
    "\n",
    "# Elevation data\n",
    "ELEVS = [\"ELEV\"+str(i) for i in range(11)]\n",
    "\n",
    "# Evaporation per month\n",
    "EVAPOS = [\"EPJAN\", \"EPFEB\", \"EPMAR\", \"EPAPR\", \"EPMAY\", \"EPJUN\", \"EPJUL\", \"EPAUG\", \"EPSEP\", \"EPOKT\", \"EPNOV\", \"EPDES\"]\n",
    "\n",
    "# Other params \n",
    "OTHER = [\"RCORR\", \"SCORR\", \"PGRAD\", \"TPGRAD\"]\n",
    "\n",
    "interesting_keys = [ELEVS, OTHER, EVAPOS]\n",
    "# Flatten lists inside list\n",
    "interesting_keys = [val for sublist in interesting_keys for val in sublist]"
   ]
  },
  {
   "cell_type": "code",
   "execution_count": 4,
   "metadata": {},
   "outputs": [],
   "source": [
    "def read_interesting_params(data, keys):\n",
    "    params_dict = {}\n",
    "    for key in keys: \n",
    "        params_dict[key] = get_param_value(data, key)\n",
    "    return params_dict"
   ]
  },
  {
   "cell_type": "code",
   "execution_count": 5,
   "metadata": {},
   "outputs": [
    {
     "data": {
      "text/plain": [
       "{'ELEV0': 670.0,\n",
       " 'ELEV1': 894.0,\n",
       " 'ELEV2': 23.0,\n",
       " 'ELEV3': 109.0,\n",
       " 'ELEV4': 196.0,\n",
       " 'ELEV5': 261.0,\n",
       " 'ELEV6': 304.0,\n",
       " 'ELEV7': 335.0,\n",
       " 'ELEV8': 361.0,\n",
       " 'ELEV9': 391.0,\n",
       " 'ELEV10': 534.0,\n",
       " 'RCORR': 1.594,\n",
       " 'SCORR': 1.768,\n",
       " 'PGRAD': -0.5,\n",
       " 'TPGRAD': -0.0,\n",
       " 'EPJAN': 0.1,\n",
       " 'EPFEB': 0.2,\n",
       " 'EPMAR': 0.7,\n",
       " 'EPAPR': 1.0,\n",
       " 'EPMAY': 2.3,\n",
       " 'EPJUN': 3.5,\n",
       " 'EPJUL': 3.5,\n",
       " 'EPAUG': 2.3,\n",
       " 'EPSEP': 1.0,\n",
       " 'EPOKT': 0.7,\n",
       " 'EPNOV': 0.2,\n",
       " 'EPDES': 0.1}"
      ]
     },
     "execution_count": 5,
     "metadata": {},
     "output_type": "execute_result"
    }
   ],
   "source": [
    "file_nr = 1\n",
    "data = read_rawdata(file_nr)\n",
    "read_interesting_params(data, interesting_keys)"
   ]
  },
  {
   "cell_type": "markdown",
   "metadata": {},
   "source": [
    "## Read Output, Simulated and Residuals data"
   ]
  },
  {
   "cell_type": "code",
   "execution_count": 19,
   "metadata": {},
   "outputs": [],
   "source": [
    "import pandas as pd\n",
    "\n",
    "file_nr = 1\n",
    "\n",
    "def read_output_simulated_residual_data(file_nr):\n",
    "    # Read raw csv\n",
    "    folder = \"../Residual, Output, Simulated data/\"\n",
    "    filename = \"HBV_output_\"+str(file_nr)+\".txt\"\n",
    "    filepath = folder + filename\n",
    "    \n",
    "    df = pd.read_csv(filepath)\n",
    "    \n",
    "    # Rename columns to match LSTM notebook\n",
    "    df = df.rename(columns={\"DATE\": \"timestamp\"})\n",
    "    \n",
    "    # Cast timestamp to datetime\n",
    "    df['timestamp'] = pd.to_datetime(df['timestamp'])\n",
    "    \n",
    "    # Remove first column\n",
    "    df = df.drop(['Unnamed: 0'], axis=1)\n",
    "    \n",
    "    return df"
   ]
  },
  {
   "cell_type": "code",
   "execution_count": 26,
   "metadata": {},
   "outputs": [
    {
     "data": {
      "text/html": [
       "<div>\n",
       "<style scoped>\n",
       "    .dataframe tbody tr th:only-of-type {\n",
       "        vertical-align: middle;\n",
       "    }\n",
       "\n",
       "    .dataframe tbody tr th {\n",
       "        vertical-align: top;\n",
       "    }\n",
       "\n",
       "    .dataframe thead th {\n",
       "        text-align: right;\n",
       "    }\n",
       "</style>\n",
       "<table border=\"1\" class=\"dataframe\">\n",
       "  <thead>\n",
       "    <tr style=\"text-align: right;\">\n",
       "      <th></th>\n",
       "      <th>timestamp</th>\n",
       "      <th>OBSRUNOFF</th>\n",
       "      <th>SIMRUNOFF</th>\n",
       "      <th>RESIDUAL</th>\n",
       "    </tr>\n",
       "  </thead>\n",
       "  <tbody>\n",
       "    <tr>\n",
       "      <th>0</th>\n",
       "      <td>2000-01-01</td>\n",
       "      <td>0.597</td>\n",
       "      <td>0.013</td>\n",
       "      <td>0.584</td>\n",
       "    </tr>\n",
       "    <tr>\n",
       "      <th>1</th>\n",
       "      <td>2000-02-01</td>\n",
       "      <td>0.597</td>\n",
       "      <td>0.055</td>\n",
       "      <td>0.542</td>\n",
       "    </tr>\n",
       "    <tr>\n",
       "      <th>2</th>\n",
       "      <td>2000-03-01</td>\n",
       "      <td>0.597</td>\n",
       "      <td>0.103</td>\n",
       "      <td>0.494</td>\n",
       "    </tr>\n",
       "    <tr>\n",
       "      <th>3</th>\n",
       "      <td>2000-04-01</td>\n",
       "      <td>0.641</td>\n",
       "      <td>0.177</td>\n",
       "      <td>0.464</td>\n",
       "    </tr>\n",
       "    <tr>\n",
       "      <th>4</th>\n",
       "      <td>2000-05-01</td>\n",
       "      <td>0.685</td>\n",
       "      <td>0.222</td>\n",
       "      <td>0.463</td>\n",
       "    </tr>\n",
       "  </tbody>\n",
       "</table>\n",
       "</div>"
      ],
      "text/plain": [
       "   timestamp  OBSRUNOFF  SIMRUNOFF  RESIDUAL\n",
       "0 2000-01-01      0.597      0.013     0.584\n",
       "1 2000-02-01      0.597      0.055     0.542\n",
       "2 2000-03-01      0.597      0.103     0.494\n",
       "3 2000-04-01      0.641      0.177     0.464\n",
       "4 2000-05-01      0.685      0.222     0.463"
      ]
     },
     "execution_count": 26,
     "metadata": {},
     "output_type": "execute_result"
    }
   ],
   "source": [
    "read_output_simulated_residual_data(1).head()"
   ]
  },
  {
   "cell_type": "code",
   "execution_count": null,
   "metadata": {},
   "outputs": [],
   "source": []
  }
 ],
 "metadata": {
  "kernelspec": {
   "display_name": "Python 3.8.1 64-bit ('ttk4853': conda)",
   "language": "python",
   "name": "python38164bitttk4853condac8c9289cc24d4b90aa5e3638c26a7713"
  },
  "language_info": {
   "codemirror_mode": {
    "name": "ipython",
    "version": 3
   },
   "file_extension": ".py",
   "mimetype": "text/x-python",
   "name": "python",
   "nbconvert_exporter": "python",
   "pygments_lexer": "ipython3",
   "version": "3.8.1"
  }
 },
 "nbformat": 4,
 "nbformat_minor": 4
}
